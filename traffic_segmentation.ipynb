{
 "cells": [
  {
   "cell_type": "markdown",
   "id": "f5421732",
   "metadata": {},
   "source": [
    "Copyright 2021, Badhan Kumar Das, All rights reserved"
   ]
  },
  {
   "cell_type": "code",
   "execution_count": null,
   "id": "0c2aa238",
   "metadata": {},
   "outputs": [],
   "source": [
    "import pixellib\n",
    "from pixellib.torchbackend.instance import instanceSegmentation\n",
    "import cv2\n",
    "import numpy as np\n",
    "from collections import Counter"
   ]
  },
  {
   "cell_type": "code",
   "execution_count": null,
   "id": "1abd2567",
   "metadata": {},
   "outputs": [],
   "source": [
    "model = instanceSegmentation()\n",
    "model.load_model(\"pointrend_resnet50.pkl\")\n",
    "capture = cv2.VideoCapture(\"thairoad2.mp4\")\n",
    "width = int(capture.get(cv2.CAP_PROP_FRAME_WIDTH))\n",
    "height = int(capture.get(cv2.CAP_PROP_FRAME_HEIGHT))\n",
    "codec = cv2.VideoWriter_fourcc(*'DIVX')\n",
    "save_video = cv2.VideoWriter(\"thairoad2output_3.mp4\", codec, 3, (1280, 720))"
   ]
  },
  {
   "cell_type": "code",
   "execution_count": null,
   "id": "d2ea3110",
   "metadata": {},
   "outputs": [],
   "source": [
    "c = Counter(car=0, truck=0, bus=0, motorcycle=0)\n",
    "x_pre = -10\n",
    "\n",
    "while True:\n",
    "    ret, frame = capture.read()\n",
    "    if ret:\n",
    "        res,output = model.segmentFrame(frame, show_bboxes=True)\n",
    "        boxes_ids = list(res.values())[0]\n",
    "        classid = list(res.values())[2]\n",
    "        i = 0\n",
    "        for box_id in boxes_ids:\n",
    "            x,y,w,h = box_id\n",
    "    #########   modify the range according to tracking line ########\n",
    "            if x not in range(x_pre-50,x_pre+50) and y in range(390,405):\n",
    "                c[classid[i]]+=1\n",
    "                x_pre = x\n",
    "            i=i+1\n",
    "        \n",
    "        carcount = c['car']\n",
    "        truckcount = c['truck']\n",
    "        buscount = c['bus']\n",
    "        motorcyclecount = c['motorcycle']\n",
    "\n",
    "        cv2.putText(output,f'Car passed:{carcount}',(25,640),cv2.FONT_HERSHEY_SIMPLEX,0.6,(200,0,0),2)\n",
    "        cv2.putText(output,f'Truck passed:{truckcount}',(25,660),cv2.FONT_HERSHEY_SIMPLEX,0.6,(200,0,0),2)\n",
    "        cv2.putText(output,f'Bus passed:{buscount}',(25,680),cv2.FONT_HERSHEY_SIMPLEX,0.6,(200,0,0),2)\n",
    "        cv2.putText(output,f'Motorcycle passed:{motorcyclecount}',(25,700),cv2.FONT_HERSHEY_SIMPLEX,0.6,(200,0,0),2)\n",
    "        \n",
    "    ########### tracking line #########\n",
    "    cv2.line(output,(50,395),(1200,395),(0,0,100),2)\n",
    "    cv2.imshow(\"Output\",output)\n",
    "    save_video.write(output)\n",
    "    \n",
    "    key = cv2.waitKey(30)\n",
    "    if key==27:\n",
    "        break\n",
    "\n",
    "save_video.release()\n",
    "capture.release()\n",
    "cv2.destroyAllWindows()\n",
    "        "
   ]
  },
  {
   "cell_type": "code",
   "execution_count": null,
   "id": "68d0f082",
   "metadata": {},
   "outputs": [],
   "source": []
  }
 ],
 "metadata": {
  "kernelspec": {
   "display_name": "Python 3 (ipykernel)",
   "language": "python",
   "name": "python3"
  },
  "language_info": {
   "codemirror_mode": {
    "name": "ipython",
    "version": 3
   },
   "file_extension": ".py",
   "mimetype": "text/x-python",
   "name": "python",
   "nbconvert_exporter": "python",
   "pygments_lexer": "ipython3",
   "version": "3.9.7"
  }
 },
 "nbformat": 4,
 "nbformat_minor": 5
}
